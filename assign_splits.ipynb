{
 "cells": [
  {
   "cell_type": "code",
   "execution_count": 1,
   "id": "080676da",
   "metadata": {},
   "outputs": [],
   "source": [
    "import csv\n",
    "import h5py\n",
    "import numpy as np\n",
    "import os"
   ]
  },
  {
   "cell_type": "code",
   "execution_count": 2,
   "id": "322897f0",
   "metadata": {},
   "outputs": [],
   "source": [
    "np.random.seed(0)"
   ]
  },
  {
   "cell_type": "code",
   "execution_count": 3,
   "id": "e12d6096",
   "metadata": {},
   "outputs": [],
   "source": [
    "def list_dirs(path):\n",
    "    return [i for i in os.listdir(path) if os.path.isdir(os.path.join(path,i))]"
   ]
  },
  {
   "cell_type": "code",
   "execution_count": null,
   "id": "33c0aa3d",
   "metadata": {},
   "outputs": [],
   "source": [
    "train_list = []\n",
    "val_list = []\n",
    "test_list = []\n",
    "\n",
    "chelsea_path = '/vast/kmotion/data/data_anon/data_chelsea'\n",
    "\n",
    "for che in list_dirs(chelsea_path):\n",
    "    che_path = os.path.join(chelsea_path, che)\n",
    "    \n",
    "    rand = np.random.uniform()\n",
    "    \n",
    "    for scan in list_dirs(che_path):\n",
    "        scan_path = os.path.join(che_path, scan)\n",
    "        \n",
    "        if('recon' in list_dirs(scan_path)):\n",
    "            for series in list_dirs(os.path.join(scan_path,'recon')):\n",
    "                series_path = os.path.join(scan_path, 'recon', series)\n",
    "                \n",
    "                for acq in list_dirs(series_path):\n",
    "                    acq_path = os.path.join(series_path, acq)\n",
    "                    \n",
    "                    if('kspace_acquired.npz' in os.listdir(acq_path) and '2DFSE' in acq_path):\n",
    "                        if(rand<0.7): train_list.append(acq_path)\n",
    "                        elif(rand<0.9): val_list.append(acq_path)\n",
    "                        else: test_list.append(acq_path)\n",
    "                            "
   ]
  },
  {
   "cell_type": "code",
   "execution_count": null,
   "id": "2b0b127c",
   "metadata": {},
   "outputs": [],
   "source": [
    "split_path = '/vast/kmotion/users/nmsingh/dev/ismrm2022/data_splits'\n",
    "\n",
    "if not os.path.exists(split_path):\n",
    "    os.mkdir(split_path)\n",
    "\n",
    "def write_csv(split, ex_list):\n",
    "    with open(os.path.join(split_path,split+'.csv'), 'w') as f:\n",
    "        wr = csv.writer(f)\n",
    "        for i in ex_list:\n",
    "            wr.writerow([i])\n",
    "\n",
    "write_csv('train', train_list)\n",
    "write_csv('val', val_list)\n",
    "write_csv('test', test_list)"
   ]
  }
 ],
 "metadata": {
  "kernelspec": {
   "display_name": "Python 3",
   "language": "python",
   "name": "python3"
  },
  "language_info": {
   "codemirror_mode": {
    "name": "ipython",
    "version": 3
   },
   "file_extension": ".py",
   "mimetype": "text/x-python",
   "name": "python",
   "nbconvert_exporter": "python",
   "pygments_lexer": "ipython3",
   "version": "3.7.10"
  }
 },
 "nbformat": 4,
 "nbformat_minor": 5
}
